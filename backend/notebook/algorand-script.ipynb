{
 "cells": [
  {
   "cell_type": "code",
   "execution_count": 1,
   "metadata": {},
   "outputs": [
    {
     "name": "stdout",
     "output_type": "stream",
     "text": [
      "Collecting py-algorand-sdk\n",
      "  Using cached py_algorand_sdk-2.5.0-py3-none-any.whl.metadata (4.8 kB)\n",
      "Collecting pynacl<2,>=1.4.0 (from py-algorand-sdk)\n",
      "  Using cached PyNaCl-1.5.0-cp36-abi3-macosx_10_10_universal2.whl (349 kB)\n",
      "Collecting pycryptodomex<4,>=3.6.0 (from py-algorand-sdk)\n",
      "  Using cached pycryptodomex-3.20.0-cp35-abi3-macosx_10_9_universal2.whl.metadata (3.4 kB)\n",
      "Collecting msgpack<2,>=1.0.0 (from py-algorand-sdk)\n",
      "  Using cached msgpack-1.0.7-cp310-cp310-macosx_11_0_arm64.whl.metadata (9.1 kB)\n",
      "Collecting cffi>=1.4.1 (from pynacl<2,>=1.4.0->py-algorand-sdk)\n",
      "  Using cached cffi-1.16.0-cp310-cp310-macosx_11_0_arm64.whl.metadata (1.5 kB)\n",
      "Collecting pycparser (from cffi>=1.4.1->pynacl<2,>=1.4.0->py-algorand-sdk)\n",
      "  Using cached pycparser-2.21-py2.py3-none-any.whl (118 kB)\n",
      "Using cached py_algorand_sdk-2.5.0-py3-none-any.whl (111 kB)\n",
      "Using cached msgpack-1.0.7-cp310-cp310-macosx_11_0_arm64.whl (231 kB)\n",
      "Using cached pycryptodomex-3.20.0-cp35-abi3-macosx_10_9_universal2.whl (2.4 MB)\n",
      "Using cached cffi-1.16.0-cp310-cp310-macosx_11_0_arm64.whl (176 kB)\n",
      "Installing collected packages: pycryptodomex, pycparser, msgpack, cffi, pynacl, py-algorand-sdk\n",
      "Successfully installed cffi-1.16.0 msgpack-1.0.7 py-algorand-sdk-2.5.0 pycparser-2.21 pycryptodomex-3.20.0 pynacl-1.5.0\n",
      "Note: you may need to restart the kernel to use updated packages.\n"
     ]
    }
   ],
   "source": [
    "%pip install py-algorand-sdk\n"
   ]
  },
  {
   "cell_type": "code",
   "execution_count": 2,
   "metadata": {},
   "outputs": [],
   "source": [
    "import json"
   ]
  },
  {
   "cell_type": "code",
   "execution_count": 5,
   "metadata": {},
   "outputs": [],
   "source": [
    "import base64\n",
    "from algosdk.v2client import algod\n",
    "from algosdk import account, mnemonic\n",
    "from algosdk.transaction import AssetConfigTxn, AssetTransferTxn, AssetFreezeTxn\n",
    "from algosdk.transaction import *"
   ]
  },
  {
   "cell_type": "code",
   "execution_count": 4,
   "metadata": {},
   "outputs": [],
   "source": [
    "mnemonic1 = \"kiss hope rubber day sphere identify journey material just depend case camp wash like simple dash push tone truck change chicken peace wrong able glove\"\n",
    "mnemonic2 = \"soup window nice vapor chimney also sugar cram present dry blame obscure illegal include scheme flame gaze twist crop confirm vault economy hip abandon favorite\"\n",
    "mnemonic3 = \"note mix true cream demise inside bench ozone cinnamon frame charge crush into travel ensure blanket rose volume blade humor truly final park abstract boat\""
   ]
  },
  {
   "cell_type": "code",
   "execution_count": 7,
   "metadata": {},
   "outputs": [],
   "source": [
    "# For ease of reference, add account public and private keys to\n",
    "# an accounts dict.\n",
    "accounts = {}\n",
    "counter = 1\n",
    "for m in [mnemonic1, mnemonic2, mnemonic3]:\n",
    "    accounts[counter] = {}\n",
    "    private_key = mnemonic.to_private_key(m)\n",
    "    accounts[counter]['pk'] = account.address_from_private_key(private_key)\n",
    "    accounts[counter]['sk'] = private_key\n",
    "    counter += 1"
   ]
  },
  {
   "cell_type": "code",
   "execution_count": 8,
   "metadata": {},
   "outputs": [],
   "source": [
    "# Specify the node address and token.\n",
    "\n",
    "algod_address = \"http://localhost:4001\"\n",
    "algod_token = \"aaaaaaaaaaaaaaaaaaaaaaaaaaaaaaaaaaaaaaaaaaaaaaaaaaaaaaaaaaaaaaaa\"\n",
    "\n",
    "# Initialize an algod client\n",
    "algod_client = algod.AlgodClient(algod_token=algod_token, algod_address=algod_address)"
   ]
  },
  {
   "cell_type": "code",
   "execution_count": 9,
   "metadata": {},
   "outputs": [
    {
     "name": "stdout",
     "output_type": "stream",
     "text": [
      "Account 1 address: FTHK4OKIVNDJWLGFJZPO25XYETWJWFDUYPROWHZ6LHHNELUNEWWNP6RMHI\n",
      "Account 2 address: OWMS4KE2TTZ6UPBHSODAQKQASVT22LT7KTLSYO4ZHNFEUCFMHC3OHTBOTU\n"
     ]
    }
   ],
   "source": [
    "print(\"Account 1 address: {}\".format(accounts[1]['pk']))\n",
    "print(\"Account 2 address: {}\".format(accounts[2]['pk']))"
   ]
  },
  {
   "cell_type": "code",
   "execution_count": 62,
   "metadata": {},
   "outputs": [
    {
     "name": "stdout",
     "output_type": "stream",
     "text": [
      "\n",
      "Account 1 information:\n",
      "{\n",
      "    \"address\": \"FTHK4OKIVNDJWLGFJZPO25XYETWJWFDUYPROWHZ6LHHNELUNEWWNP6RMHI\",\n",
      "    \"amount\": 0,\n",
      "    \"amount-without-pending-rewards\": 0,\n",
      "    \"apps-local-state\": [],\n",
      "    \"apps-total-schema\": {\n",
      "        \"num-byte-slice\": 0,\n",
      "        \"num-uint\": 0\n",
      "    },\n",
      "    \"assets\": [],\n",
      "    \"created-apps\": [],\n",
      "    \"created-assets\": [],\n",
      "    \"min-balance\": 100000,\n",
      "    \"pending-rewards\": 0,\n",
      "    \"reward-base\": 0,\n",
      "    \"rewards\": 0,\n",
      "    \"round\": 13019,\n",
      "    \"status\": \"Offline\",\n",
      "    \"total-apps-opted-in\": 0,\n",
      "    \"total-assets-opted-in\": 0,\n",
      "    \"total-created-apps\": 0,\n",
      "    \"total-created-assets\": 0\n",
      "}\n",
      "\n",
      "Account 2 information:\n",
      "{\n",
      "    \"address\": \"OWMS4KE2TTZ6UPBHSODAQKQASVT22LT7KTLSYO4ZHNFEUCFMHC3OHTBOTU\",\n",
      "    \"amount\": 0,\n",
      "    \"amount-without-pending-rewards\": 0,\n",
      "    \"apps-local-state\": [],\n",
      "    \"apps-total-schema\": {\n",
      "        \"num-byte-slice\": 0,\n",
      "        \"num-uint\": 0\n",
      "    },\n",
      "    \"assets\": [],\n",
      "    \"created-apps\": [],\n",
      "    \"created-assets\": [],\n",
      "    \"min-balance\": 100000,\n",
      "    \"pending-rewards\": 0,\n",
      "    \"reward-base\": 0,\n",
      "    \"rewards\": 0,\n",
      "    \"round\": 13019,\n",
      "    \"status\": \"Offline\",\n",
      "    \"total-apps-opted-in\": 0,\n",
      "    \"total-assets-opted-in\": 0,\n",
      "    \"total-created-apps\": 0,\n",
      "    \"total-created-assets\": 0\n",
      "}\n"
     ]
    }
   ],
   "source": [
    "from algosdk.transaction import AssetConfigTxn, AssetTransferTxn\n",
    "from algosdk.v2client import algod\n",
    "from algosdk import account, mnemonic, transaction\n",
    "import json\n",
    "import time\n",
    "\n",
    "def wait_for_confirmation(client, transaction_id, timeout=5):\n",
    "    \"\"\"\n",
    "    Wait until the transaction is confirmed.\n",
    "\n",
    "    Parameters:\n",
    "    - client: AlgodClient\n",
    "    - transaction_id: str\n",
    "    - timeout: int (optional, default: 5)\n",
    "    \"\"\"\n",
    "    start_round = client.status().get(\"last-round\") + 1\n",
    "    current_round = start_round\n",
    "\n",
    "    while current_round < start_round + timeout:\n",
    "        try:\n",
    "            response = client.pending_transaction_info(transaction_id)\n",
    "            if response.get(\"confirmed-round\") > 0:\n",
    "                print(f\"Transaction {transaction_id} confirmed in round {response.get('confirmed-round')}.\")\n",
    "                return response.get(\"confirmed-round\")\n",
    "            elif response.get(\"pool-error\"):\n",
    "                print(f\"Transaction {transaction_id} rejected from the pool.\")\n",
    "                return None\n",
    "        except Exception as e:\n",
    "            pass\n",
    "\n",
    "        client.status_after_block(current_round)\n",
    "        current_round += 1\n",
    "\n",
    "    print(f\"Transaction {transaction_id} not confirmed after {timeout} rounds.\")\n",
    "    return None\n",
    "\n",
    "# Specify the node address and token.\n",
    "algod_address = \"http://localhost:4001\"\n",
    "algod_token = \"aaaaaaaaaaaaaaaaaaaaaaaaaaaaaaaaaaaaaaaaaaaaaaaaaaaaaaaaaaaaaaaa\"\n",
    "\n",
    "# Initialize an algod client\n",
    "algod_client = algod.AlgodClient(algod_token=algod_token, algod_address=algod_address)\n",
    "\n",
    "# Account addresses\n",
    "account1_address = \"FTHK4OKIVNDJWLGFJZPO25XYETWJWFDUYPROWHZ6LHHNELUNEWWNP6RMHI\"\n",
    "account2_address = \"OWMS4KE2TTZ6UPBHSODAQKQASVT22LT7KTLSYO4ZHNFEUCFMHC3OHTBOTU\"\n",
    "\n",
    "# Mnemonics\n",
    "mnemonic1 = \"kiss hope rubber day sphere identify journey material just depend case camp wash like simple dash push tone truck change chicken peace wrong able glove\"\n",
    "mnemonic2 = \"soup window nice vapor chimney also sugar cram present dry blame obscure illegal include scheme flame gaze twist crop confirm vault economy hip abandon favorite\"\n",
    "\n",
    "# Convert mnemonics to private keys\n",
    "private_key1 = mnemonic.to_private_key(mnemonic1)\n",
    "private_key2 = mnemonic.to_private_key(mnemonic2)\n",
    "\n",
    "# Get suggested parameters for the transaction\n",
    "params = algod_client.suggested_params()\n",
    "params.fee = 1000  # Set an appropriate fee value\n",
    "time.sleep(1)\n",
    "\n",
    "# Asset Creation transaction\n",
    "txn = transaction.AssetConfigTxn(\n",
    "    sender=account.address_from_private_key(private_key1),\n",
    "    sp=params,\n",
    "    total=1000,\n",
    "    default_frozen=False,\n",
    "    unit_name=\"LATINUM\",\n",
    "    asset_name=\"latinum\",\n",
    "    manager=account2_address,\n",
    "    freeze=account2_address,\n",
    "    clawback=account2_address,\n",
    "    url=\"https://path/to/my/asset/details\",\n",
    "    decimals=0,\n",
    "    strict_empty_address_check=False  # Set strict_empty_address_check to False\n",
    ")\n",
    "\n",
    "# Sign with the secret key of the creator\n",
    "stxn = txn.sign(private_key1)\n",
    "\n",
    "# Query account information for account 1\n",
    "account_info_1 = algod_client.account_info(account.address_from_private_key(private_key1))\n",
    "print(\"\\nAccount 1 information:\")\n",
    "print(json.dumps(account_info_1, indent=4))\n",
    "\n",
    "# Query account information for account 2\n",
    "account_info_2 = algod_client.account_info(account.address_from_private_key(private_key2))\n",
    "print(\"\\nAccount 2 information:\")\n",
    "print(json.dumps(account_info_2, indent=4))"
   ]
  }
 ],
 "metadata": {
  "kernelspec": {
   "display_name": ".venv",
   "language": "python",
   "name": "python3"
  },
  "language_info": {
   "codemirror_mode": {
    "name": "ipython",
    "version": 3
   },
   "file_extension": ".py",
   "mimetype": "text/x-python",
   "name": "python",
   "nbconvert_exporter": "python",
   "pygments_lexer": "ipython3",
   "version": "3.10.13"
  }
 },
 "nbformat": 4,
 "nbformat_minor": 2
}
