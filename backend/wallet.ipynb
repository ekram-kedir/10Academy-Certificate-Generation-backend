{
 "cells": [
  {
   "cell_type": "markdown",
   "metadata": {},
   "source": [
    "### Import packges"
   ]
  },
  {
   "cell_type": "code",
   "execution_count": 3,
   "metadata": {},
   "outputs": [],
   "source": [
    "import os\n",
    "import sys\n",
    "sys.path.append(os.path.abspath(os.path.join('../scripts')))\n",
    "\n",
    "from kmd_wallet import KmdAlgorand\n",
    "kmd_algo = KmdAlgorand()"
   ]
  },
  {
   "cell_type": "code",
   "execution_count": 2,
   "metadata": {},
   "outputs": [
    {
     "name": "stdout",
     "output_type": "stream",
     "text": [
      "Requirement already satisfied: py-algorand-sdk in ./backend/lib/python3.11/site-packages (2.5.0)\n",
      "Requirement already satisfied: pynacl<2,>=1.4.0 in ./backend/lib/python3.11/site-packages (from py-algorand-sdk) (1.5.0)\n",
      "Requirement already satisfied: pycryptodomex<4,>=3.6.0 in ./backend/lib/python3.11/site-packages (from py-algorand-sdk) (3.20.0)\n",
      "Requirement already satisfied: msgpack<2,>=1.0.0 in ./backend/lib/python3.11/site-packages (from py-algorand-sdk) (1.0.7)\n",
      "Requirement already satisfied: cffi>=1.4.1 in ./backend/lib/python3.11/site-packages (from pynacl<2,>=1.4.0->py-algorand-sdk) (1.16.0)\n",
      "Requirement already satisfied: pycparser in ./backend/lib/python3.11/site-packages (from cffi>=1.4.1->pynacl<2,>=1.4.0->py-algorand-sdk) (2.21)\n",
      "\n",
      "\u001b[1m[\u001b[0m\u001b[34;49mnotice\u001b[0m\u001b[1;39;49m]\u001b[0m\u001b[39;49m A new release of pip is available: \u001b[0m\u001b[31;49m23.3.1\u001b[0m\u001b[39;49m -> \u001b[0m\u001b[32;49m23.3.2\u001b[0m\n",
      "\u001b[1m[\u001b[0m\u001b[34;49mnotice\u001b[0m\u001b[1;39;49m]\u001b[0m\u001b[39;49m To update, run: \u001b[0m\u001b[32;49mpip install --upgrade pip\u001b[0m\n",
      "Note: you may need to restart the kernel to use updated packages.\n"
     ]
    }
   ],
   "source": [
    "%pip install py-algorand-sdk"
   ]
  },
  {
   "cell_type": "markdown",
   "metadata": {},
   "source": [
    "### create wallets"
   ]
  },
  {
   "cell_type": "code",
   "execution_count": 4,
   "metadata": {},
   "outputs": [
    {
     "data": {
      "text/plain": [
       "'VYIGOUKD4U6547FH2N3Y36WYWEOYSY6WKKAYLF4IBSZTS7XMO5MNKZSQ5M'"
      ]
     },
     "execution_count": 4,
     "metadata": {},
     "output_type": "execute_result"
    }
   ],
   "source": [
    "DEFAULT_KMD_WALLET_NAME = \"unencrypted-default-wallet\"\n",
    "DEFAULT_KMD_WALLET_PASSWORD = \"\"\n",
    "default_wallet = kmd_algo.create_user_wallet(wallet_name=DEFAULT_KMD_WALLET_NAME, wallet_password=DEFAULT_KMD_WALLET_PASSWORD)\n",
    "\n",
    "\n",
    "user_wallet = kmd_algo.create_user_wallet(wallet_name=\"a\", wallet_password=\"a\")\n",
    "kmd_algo.get_account_address(user_wallet)"
   ]
  },
  {
   "cell_type": "markdown",
   "metadata": {},
   "source": [
    "### Get wallets accounts list"
   ]
  },
  {
   "cell_type": "code",
   "execution_count": 5,
   "metadata": {},
   "outputs": [
    {
     "data": {
      "text/plain": [
       "['KKPHDPSWTFDX3H5DDFU7JR42N2UP35A2SBTB5BM2N2IAE5ZIAXYPPGEMHM',\n",
       " '2EHXNIEOVLRJ4NKN3U6AMVG6XJ3U2Z3CCAYS7BITXTJH5LDTJS3KZMTZUQ',\n",
       " '3YFBRCLMIZ344RQEX4ZALUKE73JW2YYPPCKMCUUJ4M7JZNESWXFRXE76CU']"
      ]
     },
     "execution_count": 5,
     "metadata": {},
     "output_type": "execute_result"
    }
   ],
   "source": [
    "default_wallet.list_keys()"
   ]
  },
  {
   "cell_type": "code",
   "execution_count": 6,
   "metadata": {},
   "outputs": [
    {
     "data": {
      "text/plain": [
       "['LMMFA7YVGLIKDEE3VXVNDD7OUMLJTVLJEBG2E6LC3EYXG4AVUYJKBMNIH4',\n",
       " 'VYIGOUKD4U6547FH2N3Y36WYWEOYSY6WKKAYLF4IBSZTS7XMO5MNKZSQ5M']"
      ]
     },
     "execution_count": 6,
     "metadata": {},
     "output_type": "execute_result"
    }
   ],
   "source": [
    "user_wallet.list_keys()"
   ]
  },
  {
   "cell_type": "markdown",
   "metadata": {},
   "source": [
    "### Check the balance of the accounts"
   ]
  },
  {
   "cell_type": "code",
   "execution_count": 7,
   "metadata": {},
   "outputs": [],
   "source": [
    "default_account = default_wallet.list_keys()[0]\n",
    "user_account = user_wallet.list_keys()[0]"
   ]
  },
  {
   "cell_type": "code",
   "execution_count": 8,
   "metadata": {},
   "outputs": [
    {
     "data": {
      "text/plain": [
       "{'address': 'KKPHDPSWTFDX3H5DDFU7JR42N2UP35A2SBTB5BM2N2IAE5ZIAXYPPGEMHM',\n",
       " 'amount': 3999998898986000,\n",
       " 'amount-without-pending-rewards': 3999998898986000,\n",
       " 'apps-local-state': [],\n",
       " 'apps-total-schema': {'num-byte-slice': 0, 'num-uint': 0},\n",
       " 'assets': [],\n",
       " 'created-apps': [],\n",
       " 'created-assets': [],\n",
       " 'min-balance': 100000,\n",
       " 'participation': {'selection-participation-key': '37yLIFk/B1m2RBayoj4rtU4zSrYn5jUXmvvWnXTpUNM=',\n",
       "  'state-proof-key': 'gqiAjW6jUuiEhhAAELFSMjfCuK7OHqttkluchp0iK7ca8SQ7itfS7bJjA58ffv65Fe/atfrVmxrZxnplvKG2Zg==',\n",
       "  'vote-first-valid': 0,\n",
       "  'vote-key-dilution': 100,\n",
       "  'vote-last-valid': 30000,\n",
       "  'vote-participation-key': 'N43XEyVxwzFQS1QGAndK1+GTcXWYKzI9MdWsY1qxIfE='},\n",
       " 'pending-rewards': 0,\n",
       " 'reward-base': 0,\n",
       " 'rewards': 0,\n",
       " 'round': 15,\n",
       " 'status': 'Online',\n",
       " 'total-apps-opted-in': 0,\n",
       " 'total-assets-opted-in': 0,\n",
       " 'total-created-apps': 0,\n",
       " 'total-created-assets': 0}"
      ]
     },
     "execution_count": 8,
     "metadata": {},
     "output_type": "execute_result"
    }
   ],
   "source": [
    "# default account balance\n",
    "kmd_algo.query_account_information(default_account)"
   ]
  },
  {
   "cell_type": "code",
   "execution_count": 9,
   "metadata": {},
   "outputs": [
    {
     "data": {
      "text/plain": [
       "{'address': 'LMMFA7YVGLIKDEE3VXVNDD7OUMLJTVLJEBG2E6LC3EYXG4AVUYJKBMNIH4',\n",
       " 'amount': 1100000000,\n",
       " 'amount-without-pending-rewards': 1100000000,\n",
       " 'apps-local-state': [],\n",
       " 'apps-total-schema': {'num-byte-slice': 0, 'num-uint': 0},\n",
       " 'assets': [],\n",
       " 'created-apps': [],\n",
       " 'created-assets': [],\n",
       " 'min-balance': 100000,\n",
       " 'pending-rewards': 0,\n",
       " 'reward-base': 0,\n",
       " 'rewards': 0,\n",
       " 'round': 15,\n",
       " 'status': 'Offline',\n",
       " 'total-apps-opted-in': 0,\n",
       " 'total-assets-opted-in': 0,\n",
       " 'total-created-apps': 0,\n",
       " 'total-created-assets': 0}"
      ]
     },
     "execution_count": 9,
     "metadata": {},
     "output_type": "execute_result"
    }
   ],
   "source": [
    "kmd_algo.query_account_information(user_account)"
   ]
  },
  {
   "cell_type": "markdown",
   "metadata": {},
   "source": [
    "### Transfer algos from default account to user account"
   ]
  },
  {
   "cell_type": "code",
   "execution_count": 9,
   "metadata": {},
   "outputs": [],
   "source": [
    "from algosdk.v2client import algod\n",
    "# Specify the node address and token.\n",
    "\n",
    "algod_address = \"http://localhost:4001\"\n",
    "algod_token = \"aaaaaaaaaaaaaaaaaaaaaaaaaaaaaaaaaaaaaaaaaaaaaaaaaaaaaaaaaaaaaaaa\"\n",
    "\n",
    "# Initialize an algod client\n",
    "algod_client = algod.AlgodClient(algod_token=algod_token, algod_address=algod_address)"
   ]
  },
  {
   "cell_type": "code",
   "execution_count": 10,
   "metadata": {},
   "outputs": [],
   "source": [
    "from algosdk import transaction\n",
    "\n",
    "def send_alogs_transaction(algod_client, receiver_address, sender_address, sender_private_key, amount):\n",
    "\n",
    "    # Construct the transaction\n",
    "    params = algod_client.suggested_params()\n",
    "\n",
    "    txn = transaction.PaymentTxn(\n",
    "        sender=sender_address,\n",
    "        receiver=receiver_address,\n",
    "        amt=amount,\n",
    "        sp=params\n",
    "    )\n",
    "\n",
    "    # Sign the transaction with the sender's private key\n",
    "    signed_txn = txn.sign(sender_private_key)\n",
    "\n",
    "    # Send the transaction to the Algorand network\n",
    "    try:\n",
    "        tx_id = algod_client.send_transaction(signed_txn)\n",
    "        print(\"Transaction ID:\", tx_id)\n",
    "    except Exception as e:\n",
    "        print(\"Transaction failed:\", e)\n"
   ]
  },
  {
   "cell_type": "code",
   "execution_count": 11,
   "metadata": {},
   "outputs": [],
   "source": [
    "sender_private_key = default_wallet.export_key(default_account)"
   ]
  },
  {
   "cell_type": "code",
   "execution_count": 12,
   "metadata": {},
   "outputs": [
    {
     "name": "stdout",
     "output_type": "stream",
     "text": [
      "Transaction ID: KUXU4KMNHEE4AYWQEINYNYWBOUHCV24PIPRCU454GKP34RHJHNZA\n"
     ]
    }
   ],
   "source": [
    "send_alogs_transaction(\n",
    "    algod_client=algod_client, \n",
    "    receiver_address=user_account, \n",
    "    sender_address=default_account, \n",
    "    sender_private_key=sender_private_key, \n",
    "    amount=1000000)"
   ]
  },
  {
   "cell_type": "markdown",
   "metadata": {},
   "source": [
    "### Check the balance of the user"
   ]
  },
  {
   "cell_type": "code",
   "execution_count": 13,
   "metadata": {},
   "outputs": [
    {
     "data": {
      "text/plain": [
       "{'address': 'I5PSXUB47QG3A5ZUBL64YZF3CO2USAWHIIIDUVB2VQ5DYRS5BAP6RCMQ74',\n",
       " 'amount': 1000000,\n",
       " 'amount-without-pending-rewards': 1000000,\n",
       " 'apps-local-state': [],\n",
       " 'apps-total-schema': {'num-byte-slice': 0, 'num-uint': 0},\n",
       " 'assets': [],\n",
       " 'created-apps': [],\n",
       " 'created-assets': [],\n",
       " 'min-balance': 100000,\n",
       " 'pending-rewards': 0,\n",
       " 'reward-base': 0,\n",
       " 'rewards': 0,\n",
       " 'round': 1,\n",
       " 'status': 'Offline',\n",
       " 'total-apps-opted-in': 0,\n",
       " 'total-assets-opted-in': 0,\n",
       " 'total-created-apps': 0,\n",
       " 'total-created-assets': 0}"
      ]
     },
     "execution_count": 13,
     "metadata": {},
     "output_type": "execute_result"
    }
   ],
   "source": [
    "kmd_algo.query_account_information(user_account)"
   ]
  },
  {
   "cell_type": "markdown",
   "metadata": {},
   "source": [
    "### Create asset"
   ]
  },
  {
   "cell_type": "code",
   "execution_count": 18,
   "metadata": {},
   "outputs": [
    {
     "name": "stdout",
     "output_type": "stream",
     "text": [
      "Sent asset create transaction with txid: IQZXCCD6QYLMNZI43ECKNHEKKHT5MQYNLNJPDXT6YWIGKEK5BPYQ\n",
      "Result confirmed in round: 2\n"
     ]
    },
    {
     "data": {
      "text/plain": [
       "{'asset-index': 1002,\n",
       " 'confirmed-round': 2,\n",
       " 'pool-error': '',\n",
       " 'txn': {'sig': 'tQGdoCOPMRDyQk20Jce4rfNGjh7E87lkPbGLinlfHH0OCvaSrr1wZQEvXjklH1l9w0pRLYhH8qiE02zBCXuoBA==',\n",
       "  'txn': {'apar': {'an': 'Really Useful Gift',\n",
       "    'au': 'https://path/to/my/asset/details',\n",
       "    'c': 'I5PSXUB47QG3A5ZUBL64YZF3CO2USAWHIIIDUVB2VQ5DYRS5BAP6RCMQ74',\n",
       "    'f': 'I5PSXUB47QG3A5ZUBL64YZF3CO2USAWHIIIDUVB2VQ5DYRS5BAP6RCMQ74',\n",
       "    'm': 'I5PSXUB47QG3A5ZUBL64YZF3CO2USAWHIIIDUVB2VQ5DYRS5BAP6RCMQ74',\n",
       "    'r': 'I5PSXUB47QG3A5ZUBL64YZF3CO2USAWHIIIDUVB2VQ5DYRS5BAP6RCMQ74',\n",
       "    't': 1000,\n",
       "    'un': 'rug'},\n",
       "   'fee': 1000,\n",
       "   'fv': 1,\n",
       "   'gen': 'dockernet-v1',\n",
       "   'gh': 'Chyab73guWE0buBP5zhfPijUXP3UnmYnRC7+TY0n3To=',\n",
       "   'lv': 1001,\n",
       "   'snd': 'I5PSXUB47QG3A5ZUBL64YZF3CO2USAWHIIIDUVB2VQ5DYRS5BAP6RCMQ74',\n",
       "   'type': 'acfg'}}}"
      ]
     },
     "execution_count": 18,
     "metadata": {},
     "output_type": "execute_result"
    }
   ],
   "source": [
    "def create_asset(sender_address, sender_private_key, asset_url):\n",
    "    sp = algod_client.suggested_params()\n",
    "    txn = transaction.AssetConfigTxn(\n",
    "        sender=sender_address,\n",
    "        sp=sp,\n",
    "        default_frozen=False,\n",
    "        unit_name=\"rug\",\n",
    "        asset_name=\"Really Useful Gift\",\n",
    "        manager=sender_address,\n",
    "        reserve=sender_address,\n",
    "        freeze=sender_address,\n",
    "        clawback=sender_address,\n",
    "        url=asset_url,\n",
    "        total=1000,\n",
    "        decimals=0,\n",
    "    )\n",
    "\n",
    "    # Sign with secret key of creator\n",
    "    stxn = txn.sign(sender_private_key)\n",
    "    # Send the transaction to the network and retrieve the txid.\n",
    "    txid = algod_client.send_transaction(stxn)\n",
    "    print(f\"Sent asset create transaction with txid: {txid}\")\n",
    "    # Wait for the transaction to be confirmed\n",
    "    results = transaction.wait_for_confirmation(algod_client, txid, 4)\n",
    "    print(f\"Result confirmed in round: {results['confirmed-round']}\")\n",
    "    return results\n",
    "\n",
    "sender_private_key = user_wallet.export_key(user_account)\n",
    "\n",
    "create_asset(\n",
    "    sender_address=user_account, \n",
    "    sender_private_key=sender_private_key, \n",
    "    asset_url=\"https://path/to/my/asset/details\")"
   ]
  }
 ],
 "metadata": {
  "kernelspec": {
   "display_name": "tenx_week5",
   "language": "python",
   "name": "python3"
  },
  "language_info": {
   "codemirror_mode": {
    "name": "ipython",
    "version": 3
   },
   "file_extension": ".py",
   "mimetype": "text/x-python",
   "name": "python",
   "nbconvert_exporter": "python",
   "pygments_lexer": "ipython3",
   "version": "3.11.7"
  }
 },
 "nbformat": 4,
 "nbformat_minor": 2
}
